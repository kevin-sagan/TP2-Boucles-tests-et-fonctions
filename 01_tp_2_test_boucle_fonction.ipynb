{
  "nbformat": 4,
  "nbformat_minor": 0,
  "metadata": {
    "kernelspec": {
      "display_name": "Python 3",
      "language": "python",
      "name": "python3"
    },
    "language_info": {
      "codemirror_mode": {
        "name": "ipython",
        "version": 3
      },
      "file_extension": ".py",
      "mimetype": "text/x-python",
      "name": "python",
      "nbconvert_exporter": "python",
      "pygments_lexer": "ipython3",
      "version": "3.7.7"
    },
    "colab": {
      "name": "01_tp_2_test_boucle_fonction.ipynb",
      "provenance": [],
      "collapsed_sections": []
    }
  },
  "cells": [
    {
      "cell_type": "markdown",
      "metadata": {
        "id": "k-s3rGYkMqE_"
      },
      "source": [
        "# **M1 - CSB**\n",
        "# **TP 2 - Tests, boucles et fonctions**\n",
        "\n",
        "***\n",
        "\n",
        "[**Notions**](#notions)\n",
        "\n",
        "1. Les tests\n",
        "\n",
        "- [1.a.  Tests avec contrepartie](#1a)\n",
        "- [1.b. Tests successifs](#1b)\n",
        "- [1.c. Pièges classiques](#1c)\n",
        "\n",
        "\n",
        "2. Les boucles\n",
        "\n",
        "- [2.a.  Boucles inconditionnelles](#2a)\n",
        "- [2.b. List comprehension](#2b)\n",
        "- [2.c. Boucles conditionnelles](#2c)\n",
        "\n",
        "\n",
        "3. Fonctions\n",
        "- [3.a. Définition de fonctions](#3a)\n",
        "- [3.b. Paramètres et éléments retournés](#3b)\n",
        "- [3.c. Fonctions récursives](#3c)\n",
        "\n",
        "[**Exercices**](#exercices)\n",
        "\n",
        "***"
      ]
    },
    {
      "cell_type": "markdown",
      "metadata": {
        "id": "u4SAwuTCMqFA"
      },
      "source": [
        "# Notions\n",
        "***\n",
        "# 1. Les tests\n",
        "- Les tests permettent d'exécuter une portion de code spécifique selon la valeur d'une condition. \n",
        "\n",
        "\n",
        "\n",
        "\n",
        "<a id='1a'></a>\n",
        "\n",
        "\n",
        "## 1.a Tests avec contrepartie\n",
        "\n",
        "\n",
        "- On veut tester une condition, c'est ce qui suit le mot clef `if`\n",
        "- Si la condition est vraie on exécute le bloc de code en dessous\n",
        "- Sinon, on exécute le bloc de code sous le `else` - c'est la contrepartie\n",
        "\n",
        "### Test d'une égalité ou inégalité"
      ]
    },
    {
      "cell_type": "code",
      "metadata": {
        "id": "74ijzO4WMqFA",
        "outputId": "ac16afcd-0481-4b06-e83e-6f8f9c0c4778"
      },
      "source": [
        "x = 6\n",
        "\n",
        "if x > 5 :\n",
        "    print(\"x est plus grand que 5\")\n",
        "else : # la contrepartie si la condition if n'est pas réalisée\n",
        "    print(\"x est plus petit que 5\")\n",
        "    \n",
        "    \n",
        "if x == 6 :\n",
        "    print(\"x est égal à 6\")\n",
        "else:\n",
        "    print(\"x n'est pas égal à 6\")"
      ],
      "execution_count": null,
      "outputs": [
        {
          "output_type": "stream",
          "text": [
            "x est plus grand que 5\n",
            "x est égal à 6\n"
          ],
          "name": "stdout"
        }
      ]
    },
    {
      "cell_type": "markdown",
      "metadata": {
        "id": "ICJsxsAKMqFD"
      },
      "source": [
        "\n",
        "\n",
        "### Test dans un intervalle\n"
      ]
    },
    {
      "cell_type": "code",
      "metadata": {
        "id": "hnSBxcQFMqFE",
        "outputId": "1cbb8e33-b048-4402-be9d-3775329a9f97"
      },
      "source": [
        "# on peut avoir des intervalles directement\n",
        "x = 6\n",
        "if 5 < x < 10 : \n",
        "    print(\"x est entre 5 et 10\")\n",
        "else : \n",
        "    print(\"x est plus grand que 10\")"
      ],
      "execution_count": null,
      "outputs": [
        {
          "output_type": "stream",
          "text": [
            "x est entre 5 et 10\n"
          ],
          "name": "stdout"
        }
      ]
    },
    {
      "cell_type": "markdown",
      "metadata": {
        "id": "e730JDr7MqFF"
      },
      "source": [
        "### Tests de plusieurs conditions avec `or`"
      ]
    },
    {
      "cell_type": "code",
      "metadata": {
        "id": "RKEU6occMqFG",
        "outputId": "948ba19a-cf60-42a3-dd47-a1bc3c3923f1"
      },
      "source": [
        "# tester plusieurs valeurs avec l'opérateur logique \"or\"\n",
        "x = 5\n",
        "if x == 5 or x == 10 : \n",
        "    print(\"x vaut 5 ou 10\")    \n",
        "else : \n",
        "    print(\"x est différent de 5 et 10\")"
      ],
      "execution_count": null,
      "outputs": [
        {
          "output_type": "stream",
          "text": [
            "x vaut 5 ou 10\n"
          ],
          "name": "stdout"
        }
      ]
    },
    {
      "cell_type": "markdown",
      "metadata": {
        "id": "JHYABvBBMqFI"
      },
      "source": [
        "<a id='1b'></a>\n",
        "## 1.b Tests successifs :\n",
        "\n",
        "- On peut parfois vouloir tester plusieurs conditions, maix exclusivement les unes des autres, c'est à dire qu'on veut s'arrêter à la première condition qui est vérifiée c'est ce à quoi sert le mot clef `elif`\n",
        "\n",
        "\n",
        "### Exemple : \n",
        "- L'exemple suivant montre ce qui se passe si on exécute le même code en remplant des `if` par des `elif`"
      ]
    },
    {
      "cell_type": "code",
      "metadata": {
        "id": "GnMh6XvLMqFI",
        "outputId": "766032f9-e91d-462d-a918-6c9421f349bc"
      },
      "source": [
        "# Avec des if :\n",
        "# On va trouver tous les entiers strictement plus grand que 3, donc 4 et 5\n",
        "x = 3\n",
        "\n",
        "if x < 1:\n",
        "    print(\"x est plus petit que 1\")\n",
        "if x < 2:\n",
        "    print(\"x est plus petit que 2\")\n",
        "if x < 3:\n",
        "    print(\"x est plus petit que 3\")\n",
        "if x < 4:\n",
        "    print(\"x est plus petit que 4\")\n",
        "if x < 5:\n",
        "    print(\"x est plus petit que 5\")"
      ],
      "execution_count": null,
      "outputs": [
        {
          "output_type": "stream",
          "text": [
            "x est plus petit que 4\n",
            "x est plus petit que 5\n"
          ],
          "name": "stdout"
        }
      ]
    },
    {
      "cell_type": "code",
      "metadata": {
        "id": "dF1QcCv4MqFK",
        "outputId": "e208480d-0205-4ca9-ebad-53558c6386af"
      },
      "source": [
        "# Avec des elif :\n",
        "# On va trouver le premier entier plus grand que 3, donc 4\n",
        "x = 3\n",
        "\n",
        "if x < 1:\n",
        "    print(\"x est plus petit que 1\")\n",
        "elif x < 2:\n",
        "    print(\"x est plus petit que 2\")\n",
        "elif x < 3:\n",
        "    print(\"x est plus petit que 3\")\n",
        "elif x < 4:\n",
        "    print(\"x est plus petit que 4\")\n",
        "elif x < 5:\n",
        "    print(\"x est plus petit que 5\")"
      ],
      "execution_count": null,
      "outputs": [
        {
          "output_type": "stream",
          "text": [
            "x est plus petit que 4\n"
          ],
          "name": "stdout"
        }
      ]
    },
    {
      "cell_type": "markdown",
      "metadata": {
        "lines_to_next_cell": 2,
        "id": "qfb835v0MqFM"
      },
      "source": [
        "# 2. Boucles\n",
        "\n",
        "<a id='2a'></a>\n",
        "## 2.a. Boucles inconditionnelles\n",
        "\n",
        "- Les boucles inconditionnelles parcourent un ensemble prédéfini à l'avance, on utilise le mot clef `for`\n",
        "\n"
      ]
    },
    {
      "cell_type": "markdown",
      "metadata": {
        "id": "pi02Lbc4MqFM"
      },
      "source": [
        "### Parcourir une liste croissante d'entiers"
      ]
    },
    {
      "cell_type": "code",
      "metadata": {
        "id": "Yo84kBUgMqFM",
        "outputId": "6efdb25b-28e8-4539-c95c-b236b5f1f1d2"
      },
      "source": [
        "for i in range(0,3) : \n",
        "    print(i)"
      ],
      "execution_count": null,
      "outputs": [
        {
          "output_type": "stream",
          "text": [
            "0\n",
            "1\n",
            "2\n"
          ],
          "name": "stdout"
        }
      ]
    },
    {
      "cell_type": "markdown",
      "metadata": {
        "id": "CJaHoK8YMqFO"
      },
      "source": [
        "\n",
        "### Parcourir une liste décroissante d'entiers\n"
      ]
    },
    {
      "cell_type": "code",
      "metadata": {
        "id": "ipx7kkq7MqFP",
        "outputId": "cb543b9f-0701-4c41-b6e6-c75610fe1d5c"
      },
      "source": [
        "for i in range(3,0,-1) : \n",
        "    print(i)"
      ],
      "execution_count": null,
      "outputs": [
        {
          "output_type": "stream",
          "text": [
            "3\n",
            "2\n",
            "1\n"
          ],
          "name": "stdout"
        }
      ]
    },
    {
      "cell_type": "markdown",
      "metadata": {
        "id": "Fgq_NnV_MqFQ"
      },
      "source": [
        "\n",
        "### Parcourir une liste de chaines de caractères"
      ]
    },
    {
      "cell_type": "code",
      "metadata": {
        "id": "Cww1PHz0MqFR",
        "outputId": "ce066b17-6ebb-47c4-e5c0-3a9f7170fc7f"
      },
      "source": [
        "list_cities = ['Paris', 'Singapore', 'Berlin']\n",
        "\n",
        "for city in list_cities : \n",
        "    print(city)"
      ],
      "execution_count": null,
      "outputs": [
        {
          "output_type": "stream",
          "text": [
            "Paris\n",
            "Singapore\n",
            "Berlin\n"
          ],
          "name": "stdout"
        }
      ]
    },
    {
      "cell_type": "markdown",
      "metadata": {
        "id": "Oj_sWLzhMqFS"
      },
      "source": [
        "### Parcourir une chaine de caractères"
      ]
    },
    {
      "cell_type": "code",
      "metadata": {
        "id": "lh8gM49TMqFT",
        "outputId": "4daa28b5-9eab-4a98-bc25-9a4e7ababd11"
      },
      "source": [
        "text = \"Hello world !\"\n",
        "for c in text:\n",
        "    print(c)"
      ],
      "execution_count": null,
      "outputs": [
        {
          "output_type": "stream",
          "text": [
            "H\n",
            "e\n",
            "l\n",
            "l\n",
            "o\n",
            " \n",
            "w\n",
            "o\n",
            "r\n",
            "l\n",
            "d\n",
            " \n",
            "!\n"
          ],
          "name": "stdout"
        }
      ]
    },
    {
      "cell_type": "markdown",
      "metadata": {
        "id": "gsnxeNZtMqFU"
      },
      "source": [
        "<a id='2b'></a>\n",
        "\n",
        "## 2.b. List comprehension\n",
        "\n",
        "- Avec les listes, on peut écrire les boucles for d'une certaine manière, qui rend le code plus lisible et permet d'avoir moins de niveaux d'indentation\n",
        "\n"
      ]
    },
    {
      "cell_type": "markdown",
      "metadata": {
        "id": "CYVhW5cgMqFV"
      },
      "source": [
        "### Exemple : Liste des caractères qui forment une chaîne de caractères"
      ]
    },
    {
      "cell_type": "code",
      "metadata": {
        "id": "unE5B3grMqFV",
        "outputId": "5e38f52e-d246-41cc-b32b-e505484d8822"
      },
      "source": [
        "# Sans list comprehension\n",
        "liste_lettres = []\n",
        "for lettre in 'HETIC - M1':\n",
        "    liste_lettres.append(lettre)\n",
        "print(liste_lettres)\n",
        "\n",
        "# Avec une list comprehension\n",
        "liste_lettres_2 = [letter for letter in 'HETIC - M1' ]\n",
        "print(liste_lettres_2)"
      ],
      "execution_count": null,
      "outputs": [
        {
          "output_type": "stream",
          "text": [
            "['H', 'E', 'T', 'I', 'C', ' ', '-', ' ', 'M', '1']\n",
            "['H', 'E', 'T', 'I', 'C', ' ', '-', ' ', 'M', '1']\n"
          ],
          "name": "stdout"
        }
      ]
    },
    {
      "cell_type": "markdown",
      "metadata": {
        "id": "Vs7DGrI4MqFW"
      },
      "source": [
        "### Exemple : Liste des entiers pairs plus petits que 10"
      ]
    },
    {
      "cell_type": "code",
      "metadata": {
        "id": "GcJWQ6BzMqFX",
        "outputId": "d7f7ab23-8ad0-47e3-99b4-7ba03e9130cb"
      },
      "source": [
        "# Sans list comprehension\n",
        "liste_entiers_pairs = []\n",
        "for entier in range(0, 11):\n",
        "    if entier % 2 == 0: # on test qu'il soit pair\n",
        "        liste_entiers_pairs.append(entier)\n",
        "print(liste_entiers_pairs)\n",
        "\n",
        "# Avec une list comprehension\n",
        "liste_entiers_pairs = [entier for entier in range(0, 11) if entier % 2 == 0]\n",
        "print(liste_entiers_pairs)"
      ],
      "execution_count": null,
      "outputs": [
        {
          "output_type": "stream",
          "text": [
            "[0, 2, 4, 6, 8, 10]\n",
            "[0, 2, 4, 6, 8, 10]\n"
          ],
          "name": "stdout"
        }
      ]
    },
    {
      "cell_type": "markdown",
      "metadata": {
        "lines_to_next_cell": 2,
        "id": "Gtg7FJ2fMqFZ"
      },
      "source": [
        "## 2.c Boucles inconditionnelles\n",
        "\n",
        "- Les boucles inconditionnelles parcourent un ensemble prédéfini et s'arrête dès qu'une condition est vérifiée - Une erreur qui arrive souvent, écrire une boucle while dont la condition ne sera jamais vérifiée. Elle ne s'arrête donc jamais"
      ]
    },
    {
      "cell_type": "markdown",
      "metadata": {
        "id": "cw0N8mBrMqFZ"
      },
      "source": [
        "### Exemple :"
      ]
    },
    {
      "cell_type": "code",
      "metadata": {
        "id": "HvsD8Oh5MqFa",
        "outputId": "0a48fd94-d3fd-46ec-d332-a071d52824a4"
      },
      "source": [
        "x = 10\n",
        "y = 8\n",
        "# tant que y est plus petit que 10, je continue de lui ajouter 1\n",
        "while y <= x : \n",
        "    print(\"y n'est pas encore plus grand que x\")\n",
        "    y += 1 # l'incrément\n",
        "else : \n",
        "    print(\"y est plus grand que x et vaut\",y)"
      ],
      "execution_count": null,
      "outputs": [
        {
          "output_type": "stream",
          "text": [
            "y n'est pas encore plus grand que x\n",
            "y n'est pas encore plus grand que x\n",
            "y n'est pas encore plus grand que x\n",
            "y est plus grand que x et vaut 11\n"
          ],
          "name": "stdout"
        }
      ]
    },
    {
      "cell_type": "markdown",
      "metadata": {
        "lines_to_next_cell": 2,
        "id": "dbq4FpqaMqFb"
      },
      "source": [
        "## 3. Fonctions\n",
        "<a id='3a'></a>\n",
        "### 3.a. Définition de fonctions\n",
        "\n",
        "- Les fonctions permettent de faire la même chose sans avoir à recopier le code plusieurs fois dans le même programme. \n",
        "- Elles peuvent prendre plusieurs paramètres (ou aucun) elles peuvent retourner plusieurs résultats (ou aucun)\n",
        "- Pour documenter une fonction on écrit au début entre \"\"\" \"\"\" (en rouge dans l'exemple)"
      ]
    },
    {
      "cell_type": "markdown",
      "metadata": {
        "id": "zK4F5HxdMqFb"
      },
      "source": [
        "### Une fonction qui incrémente un entier"
      ]
    },
    {
      "cell_type": "code",
      "metadata": {
        "id": "B6YdlyUoMqFc",
        "outputId": "87088a60-7406-45e6-dde8-5b572585ebed"
      },
      "source": [
        "def ma_fonction_increment(parametre) : \n",
        "    \"\"\"Cette fonction ajoute 1 au paramètre qu'on lui donne\"\"\"\n",
        "    x = parametre + 1 \n",
        "    return x\n",
        "\n",
        "ma_fonction_increment(1)"
      ],
      "execution_count": null,
      "outputs": [
        {
          "output_type": "execute_result",
          "data": {
            "text/plain": [
              "2"
            ]
          },
          "metadata": {
            "tags": []
          },
          "execution_count": 13
        }
      ]
    },
    {
      "cell_type": "markdown",
      "metadata": {
        "id": "amVJEUe4MqFd"
      },
      "source": [
        "<a id = '3b'> </a>\n",
        "## 3.b. Paramètres et éléments retournés"
      ]
    },
    {
      "cell_type": "markdown",
      "metadata": {
        "id": "rRTMa7fwMqFe"
      },
      "source": [
        "On peut également : \n",
        "\n",
        "- avoir des paramètres __facultatifs__, mais ils doivent toujours être placés à la __fin des paramètres__ \n",
        "- en cas de paramètre facultatif, il faut lui donner une valeur par défaut\n",
        "- retourner plus d'un élément à la fin d'une fonction\n",
        "- avoir des paramètres de taille différentes\n"
      ]
    },
    {
      "cell_type": "code",
      "metadata": {
        "id": "gmBNxSx2MqFe",
        "outputId": "88c1388b-bbf1-403d-dad5-e7bc3588f171"
      },
      "source": [
        "def ma_fonction(a1, a2, b=2) :\n",
        "    a1_plus_b = a1 + b\n",
        "    a2_plus_b = a1 + b\n",
        "    return a1_plus_b, a2_plus_b\n",
        "\n",
        "\n",
        "print(ma_fonction(1, 2))\n",
        "print(ma_fonction(a1=1, a2=2))\n",
        "print(ma_fonction(4, 5))\n",
        "\n",
        "result = ma_fonction(10,-1)\n",
        "print(\"result =\",result)"
      ],
      "execution_count": null,
      "outputs": [
        {
          "output_type": "stream",
          "text": [
            "(3, 3)\n",
            "(3, 3)\n",
            "(6, 6)\n",
            "result = (12, 12)\n"
          ],
          "name": "stdout"
        }
      ]
    },
    {
      "cell_type": "markdown",
      "metadata": {
        "id": "uvVmcxLtMqFf"
      },
      "source": [
        "<a id = '3c'> </a>\n",
        "\n",
        "## 3.c. Fonctions récursives"
      ]
    },
    {
      "cell_type": "markdown",
      "metadata": {
        "id": "9D7De627MqFg"
      },
      "source": [
        "- Une fonction peut également s'appeler elle même : c'est ce qu'on appelle une fonction récursive.\n",
        "- Dans cet exemple, somme_recursion() est une fonction que nous avons défini de sorte à ce qu'elle s'appelle elle même (récursif). \n",
        "- On utilise l'argument k, qui décroit (-1) chaque fois qu'on fait appelle à la fonction. \n",
        "- La récursion s'arrête quand k est nul. \n",
        "- Dans ce cet exemple, on va donc appeler 6 fois la fonction récursive."
      ]
    },
    {
      "cell_type": "code",
      "metadata": {
        "id": "XOsQ2rv6MqFg",
        "outputId": "06257255-aa1e-4c62-df28-b03da9e37993"
      },
      "source": [
        "def somme_recursion(k):\n",
        "    if(k > 0):\n",
        "        result = k + somme_recursion(k - 1)\n",
        "        print(k,result)\n",
        "    else:\n",
        "        result = 0\n",
        "    return result\n",
        "\n",
        "somme_recursion(6)"
      ],
      "execution_count": null,
      "outputs": [
        {
          "output_type": "stream",
          "text": [
            "1 1\n",
            "2 3\n",
            "3 6\n",
            "4 10\n",
            "5 15\n",
            "6 21\n"
          ],
          "name": "stdout"
        },
        {
          "output_type": "execute_result",
          "data": {
            "text/plain": [
              "21"
            ]
          },
          "metadata": {
            "tags": []
          },
          "execution_count": 17
        }
      ]
    },
    {
      "cell_type": "markdown",
      "metadata": {
        "id": "JfLJg_7pMqFh"
      },
      "source": [
        "<a id='exercices'></a>\n",
        "# Exercices"
      ]
    },
    {
      "cell_type": "markdown",
      "metadata": {
        "id": "W67VFQGwMqFi"
      },
      "source": [
        "### Manipulation d'entiers\n",
        "- Ecrire un programme qui peut trouver tous les nombres divisibles par 31 mais pas par 2 entre 2000 et 3000\n",
        "- Ecrire une autre version de ce programme pour qu'il ne renvoie plus les nombres divisibles par 3\n",
        "- Si vous avez utiliser une boucle for, réécrire ce programme avec une boucle while et inversement"
      ]
    },
    {
      "cell_type": "code",
      "metadata": {
        "id": "vtLLX5avMqFi",
        "outputId": "27f6fd99-0ee8-4788-a994-f9cbe7182d1a",
        "colab": {
          "base_uri": "https://localhost:8080/"
        }
      },
      "source": [
        "# Divisible par 31 mais pas par 2 : entre 2000 et 3000\n",
        "for i in range(2000, 3000):\n",
        "    if i % 31 == 0 and i % 2 != 0:\n",
        "        print(i)\n",
        "print(\"\\n\")     \n",
        "\n",
        "# Divisible par 31 mais pas par 2, ni par 3 : entre 2000 et 3000\n",
        "for i in range(2000, 3000):\n",
        "    if i % 31 == 0 and i % 2 != 0 and i % 3 !=0:\n",
        "        print(i)\n",
        "print(\"\\n\")     \n",
        "\n",
        "#Même programme, mais en while\n",
        "i = 2000\n",
        "while i <= 3000:\n",
        "    if i % 31 == 0 and i % 2 != 0:\n",
        "        print(i)\n",
        "    i += 1\n",
        "print(\"\\n\")     \n",
        "    \n",
        "#While, divisible par 31 mais ni par 2, ni 3.\n",
        "i = 2000\n",
        "while i <= 3000:\n",
        "    if i % 31 == 0 and i % 2 != 0 and i % 3 !=0:\n",
        "        print(i)\n",
        "    i += 1"
      ],
      "execution_count": 21,
      "outputs": [
        {
          "output_type": "stream",
          "text": [
            "2015\n",
            "2077\n",
            "2139\n",
            "2201\n",
            "2263\n",
            "2325\n",
            "2387\n",
            "2449\n",
            "2511\n",
            "2573\n",
            "2635\n",
            "2697\n",
            "2759\n",
            "2821\n",
            "2883\n",
            "2945\n",
            "\n",
            "\n",
            "2015\n",
            "2077\n",
            "2201\n",
            "2263\n",
            "2387\n",
            "2449\n",
            "2573\n",
            "2635\n",
            "2759\n",
            "2821\n",
            "2945\n",
            "\n",
            "\n",
            "2015\n",
            "2077\n",
            "2139\n",
            "2201\n",
            "2263\n",
            "2325\n",
            "2387\n",
            "2449\n",
            "2511\n",
            "2573\n",
            "2635\n",
            "2697\n",
            "2759\n",
            "2821\n",
            "2883\n",
            "2945\n",
            "\n",
            "\n",
            "2015\n",
            "2077\n",
            "2201\n",
            "2263\n",
            "2387\n",
            "2449\n",
            "2573\n",
            "2635\n",
            "2759\n",
            "2821\n",
            "2945\n"
          ],
          "name": "stdout"
        }
      ]
    },
    {
      "cell_type": "markdown",
      "metadata": {
        "id": "3WGXjdw9MqFj"
      },
      "source": [
        "### Manipulation de chaîne de caractères\n",
        "- Definir une liste contenant les mois de l\\'année\n",
        "- Trier cette liste par ordre alphabétique\n",
        "- Créer un dictionnaire qui contient en clef les noms des mois et en valeur le nombre de lettres dans le nom du mois\n",
        "- Ecrire une fonction prend en argument une chaîne de caractères et renvoie True si elle est de longueur plus grande que 6\n",
        "- Créer la liste des noms des mois qui ont plus de 6 lettres\n"
      ]
    },
    {
      "cell_type": "code",
      "metadata": {
        "id": "8OxpjMZnMqFk",
        "outputId": "b2be4f4d-80e4-4d17-d2d9-f5de3d607553",
        "colab": {
          "base_uri": "https://localhost:8080/"
        }
      },
      "source": [
        "#Définir les mois de l'année\n",
        "year = ['janvier', 'fevrier', 'mars', 'avril', 'mai', 'juin', 'juillet', 'aout', 'septembre', 'octobre', 'novembre', 'decembre']\n",
        "\n",
        "#Imprime dans l'ordre alphabétique\n",
        "print(sorted(year))\n",
        "\n",
        "#Dictionnaire : nom de mois KEY, nombre de lettres du mois VALUE\n",
        "dict = {}\n",
        "for month in year: \n",
        "    dict[month] = len(month)\n",
        "print(dict)\n",
        "\n",
        "#Si longueur de chaîne de caractères >6, renvoyer True\n",
        "def morethan6(month):\n",
        "  if len(month) > 6:\n",
        "    return True\n",
        "  return False \n",
        "\n",
        "#Créer la liste des noms des mois qui ont plus de 6 lettres\n",
        "list = []\n",
        "for month in year:\n",
        "    if morethan6(month):\n",
        "        list += [month]\n",
        "print(list)"
      ],
      "execution_count": 19,
      "outputs": [
        {
          "output_type": "stream",
          "text": [
            "['aout', 'avril', 'decembre', 'fevrier', 'janvier', 'juillet', 'juin', 'mai', 'mars', 'novembre', 'octobre', 'septembre']\n",
            "{'janvier': 7, 'fevrier': 7, 'mars': 4, 'avril': 5, 'mai': 3, 'juin': 4, 'juillet': 7, 'aout': 4, 'septembre': 9, 'octobre': 7, 'novembre': 8, 'decembre': 8}\n",
            "['janvier', 'fevrier', 'juillet', 'septembre', 'octobre', 'novembre', 'decembre']\n"
          ],
          "name": "stdout"
        }
      ]
    },
    {
      "cell_type": "markdown",
      "metadata": {
        "id": "r-nP8WU_MqFl"
      },
      "source": [
        "### Définition de fonctions :\n",
        "- Définir une fonction pour compter le nombre de voyelles dans une chaîne de caractères\n",
        "- L'appliquer au texte ci-dessous \n",
        "- Définir une fonction pour compter le nombre de consonnes dans une chaîne de caractères\n",
        "- L'appliquer au texte ci-dessous \n",
        "- Définir une fonction qui renvoie le nombre de voyelles et le nombre de consonnes dans une chaîne de caractères"
      ]
    },
    {
      "cell_type": "code",
      "metadata": {
        "id": "o-5eyI2wMqFm"
      },
      "source": [
        "text = \"\"\"Lorem Ipsum is simply dummy text of the printing and typesetting industry. \n",
        "          Lorem Ipsum has been the industry's standard dummy text ever since the 1500s, \n",
        "          when an unknown printer took a galley of type and scrambled it to make a type specimen book. \n",
        "          It has survived not only five centuries, but also the leap into electronic typesetting, \n",
        "          remaining essentially unchanged.\"\"\""
      ],
      "execution_count": 74,
      "outputs": []
    },
    {
      "cell_type": "code",
      "metadata": {
        "id": "j8lbZ0IgMqFn"
      },
      "source": [
        "#Compter le nombre de voyelles dans une chaîne de caractères\n",
        "def vowels(word):\n",
        "    count = 0\n",
        "    for letter in word:\n",
        "        if letter in \"aeiouyAEIOUY\":\n",
        "            count += 1\n",
        "    return count"
      ],
      "execution_count": 75,
      "outputs": []
    },
    {
      "cell_type": "code",
      "metadata": {
        "id": "cCBxRMOiMqFo",
        "outputId": "9294dc90-14d4-49d7-dc84-99441c05d666",
        "colab": {
          "base_uri": "https://localhost:8080/"
        }
      },
      "source": [
        "print(vowels(text))"
      ],
      "execution_count": 76,
      "outputs": [
        {
          "output_type": "stream",
          "text": [
            "115\n"
          ],
          "name": "stdout"
        }
      ]
    },
    {
      "cell_type": "code",
      "metadata": {
        "id": "nHyPCSMCSQD7"
      },
      "source": [
        "#Pareil mais pour les consonnes\n",
        "def consonants(word):\n",
        "    count = 0\n",
        "    for lettre in word:\n",
        "        if lettre not in \"aeiouyAEIOUY\":\n",
        "            count += 1\n",
        "    return count"
      ],
      "execution_count": 77,
      "outputs": []
    },
    {
      "cell_type": "code",
      "metadata": {
        "id": "NQeni1xNSQNQ",
        "outputId": "f833219b-7961-42ba-d3fa-ead023249e70",
        "colab": {
          "base_uri": "https://localhost:8080/"
        }
      },
      "source": [
        "#L'appliquer au texte ci-dessous\n",
        "print(consonants(text))"
      ],
      "execution_count": 78,
      "outputs": [
        {
          "output_type": "stream",
          "text": [
            "295\n"
          ],
          "name": "stdout"
        }
      ]
    },
    {
      "cell_type": "code",
      "metadata": {
        "id": "BRlpIKMsSQQb",
        "outputId": "e4170abd-ffcb-4293-c522-0f6ecdd7dcbd",
        "colab": {
          "base_uri": "https://localhost:8080/",
          "height": 231
        }
      },
      "source": [
        "#Fonction qui renvoie le nombre de voyelles et le nombre de consonnes dans une chaîne de caractères\n",
        "def each():\n",
        "  return vowels(word) and consonants(word)\n",
        "print('Nb de voyelles : ', vowels(word), 'et consonnes : ', consonants(word))\n",
        "\n",
        "#PasTrouvé"
      ],
      "execution_count": 84,
      "outputs": [
        {
          "output_type": "error",
          "ename": "NameError",
          "evalue": "ignored",
          "traceback": [
            "\u001b[0;31m---------------------------------------------------------------------------\u001b[0m",
            "\u001b[0;31mNameError\u001b[0m                                 Traceback (most recent call last)",
            "\u001b[0;32m<ipython-input-84-d09374f5be9c>\u001b[0m in \u001b[0;36m<module>\u001b[0;34m()\u001b[0m\n\u001b[1;32m      2\u001b[0m \u001b[0;32mdef\u001b[0m \u001b[0meach\u001b[0m\u001b[0;34m(\u001b[0m\u001b[0;34m)\u001b[0m\u001b[0;34m:\u001b[0m\u001b[0;34m\u001b[0m\u001b[0;34m\u001b[0m\u001b[0m\n\u001b[1;32m      3\u001b[0m   \u001b[0;32mreturn\u001b[0m \u001b[0mvowels\u001b[0m\u001b[0;34m(\u001b[0m\u001b[0mword\u001b[0m\u001b[0;34m)\u001b[0m \u001b[0;32mand\u001b[0m \u001b[0mconsonants\u001b[0m\u001b[0;34m(\u001b[0m\u001b[0mword\u001b[0m\u001b[0;34m)\u001b[0m\u001b[0;34m\u001b[0m\u001b[0;34m\u001b[0m\u001b[0m\n\u001b[0;32m----> 4\u001b[0;31m \u001b[0mprint\u001b[0m\u001b[0;34m(\u001b[0m\u001b[0;34m'Nb de voyelles : '\u001b[0m\u001b[0;34m,\u001b[0m \u001b[0mvowels\u001b[0m\u001b[0;34m(\u001b[0m\u001b[0mword\u001b[0m\u001b[0;34m)\u001b[0m\u001b[0;34m,\u001b[0m \u001b[0;34m'et consonnes : '\u001b[0m\u001b[0;34m,\u001b[0m \u001b[0mconsonants\u001b[0m\u001b[0;34m(\u001b[0m\u001b[0mword\u001b[0m\u001b[0;34m)\u001b[0m\u001b[0;34m)\u001b[0m\u001b[0;34m\u001b[0m\u001b[0;34m\u001b[0m\u001b[0m\n\u001b[0m\u001b[1;32m      5\u001b[0m \u001b[0;34m\u001b[0m\u001b[0m\n\u001b[1;32m      6\u001b[0m \u001b[0;31m#PasTrouvé\u001b[0m\u001b[0;34m\u001b[0m\u001b[0;34m\u001b[0m\u001b[0;34m\u001b[0m\u001b[0m\n",
            "\u001b[0;31mNameError\u001b[0m: name 'word' is not defined"
          ]
        }
      ]
    }
  ]
}